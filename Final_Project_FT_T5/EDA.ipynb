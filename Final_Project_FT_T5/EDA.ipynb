{
 "cells": [
  {
   "cell_type": "code",
   "execution_count": 1,
   "metadata": {},
   "outputs": [],
   "source": [
    "import pandas as pd\n",
    "import numpy as np\n",
    "import matplotlib.pyplot as plt\n",
    "\n",
    "random_state = 42   # random state for reproducibility"
   ]
  },
  {
   "cell_type": "markdown",
   "metadata": {},
   "source": [
    "### Exploratory Data Analysis:"
   ]
  },
  {
   "cell_type": "code",
   "execution_count": 2,
   "metadata": {},
   "outputs": [],
   "source": [
    "df = pd.read_csv('./data/MN-DS-news-classification.csv')"
   ]
  },
  {
   "cell_type": "code",
   "execution_count": 3,
   "metadata": {},
   "outputs": [
    {
     "data": {
      "text/html": [
       "<div>\n",
       "<style scoped>\n",
       "    .dataframe tbody tr th:only-of-type {\n",
       "        vertical-align: middle;\n",
       "    }\n",
       "\n",
       "    .dataframe tbody tr th {\n",
       "        vertical-align: top;\n",
       "    }\n",
       "\n",
       "    .dataframe thead th {\n",
       "        text-align: right;\n",
       "    }\n",
       "</style>\n",
       "<table border=\"1\" class=\"dataframe\">\n",
       "  <thead>\n",
       "    <tr style=\"text-align: right;\">\n",
       "      <th></th>\n",
       "      <th>data_id</th>\n",
       "      <th>id</th>\n",
       "      <th>date</th>\n",
       "      <th>source</th>\n",
       "      <th>title</th>\n",
       "      <th>content</th>\n",
       "      <th>author</th>\n",
       "      <th>url</th>\n",
       "      <th>published</th>\n",
       "      <th>published_utc</th>\n",
       "      <th>collection_utc</th>\n",
       "      <th>category_level_1</th>\n",
       "      <th>category_level_2</th>\n",
       "    </tr>\n",
       "  </thead>\n",
       "  <tbody>\n",
       "    <tr>\n",
       "      <th>2661</th>\n",
       "      <td>3705</td>\n",
       "      <td>activistpost--2019-01-09--French Government Mo...</td>\n",
       "      <td>2019-01-09</td>\n",
       "      <td>activistpost</td>\n",
       "      <td>French Government Moves to Impose a Police Sta...</td>\n",
       "      <td>Marking up the Arc de Triomphe, smashing the f...</td>\n",
       "      <td>Activist Post</td>\n",
       "      <td>https://www.activistpost.com/2019/01/french-go...</td>\n",
       "      <td>2019-01-09 17:38:45+00:00</td>\n",
       "      <td>1547073525</td>\n",
       "      <td>1567553196</td>\n",
       "      <td>crime, law and justice</td>\n",
       "      <td>law</td>\n",
       "    </tr>\n",
       "    <tr>\n",
       "      <th>9298</th>\n",
       "      <td>175221</td>\n",
       "      <td>eveningstandard--2019-05-24--Happy birthday Li...</td>\n",
       "      <td>2019-05-24</td>\n",
       "      <td>eveningstandard</td>\n",
       "      <td>Happy birthday, Lily-Rose Depp! How Vanessa Pa...</td>\n",
       "      <td>Lily-Rose Depp is quickly on her way to becomi...</td>\n",
       "      <td>Margaret Abrams</td>\n",
       "      <td>https://www.standard.co.uk/insider/style/how-l...</td>\n",
       "      <td>2019-05-24 18:01:47+00:00</td>\n",
       "      <td>1558735307</td>\n",
       "      <td>1567540192</td>\n",
       "      <td>human interest</td>\n",
       "      <td>people</td>\n",
       "    </tr>\n",
       "    <tr>\n",
       "      <th>470</th>\n",
       "      <td>78428</td>\n",
       "      <td>businessinsider--2019-02-07--INSIDER is hiring...</td>\n",
       "      <td>2019-02-07</td>\n",
       "      <td>businessinsider</td>\n",
       "      <td>INSIDER is hiring a Politics reporter to cover...</td>\n",
       "      <td>The ideal candidate brings with them an array ...</td>\n",
       "      <td>Anthony L. Fisher</td>\n",
       "      <td>https://www.businessinsider.com/insider-hiring...</td>\n",
       "      <td>2019-02-07 20:22:29+00:00</td>\n",
       "      <td>1549588949</td>\n",
       "      <td>1567549377</td>\n",
       "      <td>politics</td>\n",
       "      <td>political dissent</td>\n",
       "    </tr>\n",
       "  </tbody>\n",
       "</table>\n",
       "</div>"
      ],
      "text/plain": [
       "      data_id                                                 id        date  \\\n",
       "2661     3705  activistpost--2019-01-09--French Government Mo...  2019-01-09   \n",
       "9298   175221  eveningstandard--2019-05-24--Happy birthday Li...  2019-05-24   \n",
       "470     78428  businessinsider--2019-02-07--INSIDER is hiring...  2019-02-07   \n",
       "\n",
       "               source                                              title  \\\n",
       "2661     activistpost  French Government Moves to Impose a Police Sta...   \n",
       "9298  eveningstandard  Happy birthday, Lily-Rose Depp! How Vanessa Pa...   \n",
       "470   businessinsider  INSIDER is hiring a Politics reporter to cover...   \n",
       "\n",
       "                                                content             author  \\\n",
       "2661  Marking up the Arc de Triomphe, smashing the f...      Activist Post   \n",
       "9298  Lily-Rose Depp is quickly on her way to becomi...    Margaret Abrams   \n",
       "470   The ideal candidate brings with them an array ...  Anthony L. Fisher   \n",
       "\n",
       "                                                    url  \\\n",
       "2661  https://www.activistpost.com/2019/01/french-go...   \n",
       "9298  https://www.standard.co.uk/insider/style/how-l...   \n",
       "470   https://www.businessinsider.com/insider-hiring...   \n",
       "\n",
       "                      published  published_utc  collection_utc  \\\n",
       "2661  2019-01-09 17:38:45+00:00     1547073525      1567553196   \n",
       "9298  2019-05-24 18:01:47+00:00     1558735307      1567540192   \n",
       "470   2019-02-07 20:22:29+00:00     1549588949      1567549377   \n",
       "\n",
       "            category_level_1   category_level_2  \n",
       "2661  crime, law and justice                law  \n",
       "9298          human interest             people  \n",
       "470                 politics  political dissent  "
      ]
     },
     "execution_count": 3,
     "metadata": {},
     "output_type": "execute_result"
    }
   ],
   "source": [
    "df.sample(3)"
   ]
  },
  {
   "cell_type": "code",
   "execution_count": 4,
   "metadata": {},
   "outputs": [],
   "source": [
    "df['content_length'] = df['content'].apply(lambda x: len(x.split(' ')))"
   ]
  },
  {
   "cell_type": "code",
   "execution_count": 5,
   "metadata": {},
   "outputs": [],
   "source": [
    "df_new = df[(df['content_length']<4000) & (df['content_length']>100)]"
   ]
  },
  {
   "cell_type": "code",
   "execution_count": 6,
   "metadata": {},
   "outputs": [
    {
     "data": {
      "text/plain": [
       "Text(0.5, 1.0, 'Content Length Distribution')"
      ]
     },
     "execution_count": 6,
     "metadata": {},
     "output_type": "execute_result"
    },
    {
     "data": {
      "image/png": "[encoded data removed]",
      "text/plain": [
       "<Figure size 640x480 with 1 Axes>"
      ]
     },
     "metadata": {},
     "output_type": "display_data"
    }
   ],
   "source": [
    "## create histplot with bin \n",
    "plt.hist(df_new['content_length'], bins=20)\n",
    "plt.xlabel('Content Length')\n",
    "plt.ylabel('Count of articles')\n",
    "plt.title('Content Length Distribution')"
   ]
  },
  {
   "cell_type": "code",
   "execution_count": 7,
   "metadata": {},
   "outputs": [
    {
     "data": {
      "text/plain": [
       "count    10217.000000\n",
       "mean       610.067143\n",
       "std        494.482851\n",
       "min        101.000000\n",
       "25%        291.000000\n",
       "50%        471.000000\n",
       "75%        759.000000\n",
       "max       3936.000000\n",
       "Name: content_length, dtype: float64"
      ]
     },
     "execution_count": 7,
     "metadata": {},
     "output_type": "execute_result"
    }
   ],
   "source": [
    "df_new['content_length'].describe()"
   ]
  },
  {
   "cell_type": "code",
   "execution_count": 8,
   "metadata": {},
   "outputs": [
    {
     "name": "stdout",
     "output_type": "stream",
     "text": [
      "<class 'pandas.core.frame.DataFrame'>\n",
      "Int64Index: 10217 entries, 0 to 10916\n",
      "Data columns (total 14 columns):\n",
      " #   Column            Non-Null Count  Dtype \n",
      "---  ------            --------------  ----- \n",
      " 0   data_id           10217 non-null  int64 \n",
      " 1   id                10217 non-null  object\n",
      " 2   date              10217 non-null  object\n",
      " 3   source            10217 non-null  object\n",
      " 4   title             10217 non-null  object\n",
      " 5   content           10217 non-null  object\n",
      " 6   author            7202 non-null   object\n",
      " 7   url               10217 non-null  object\n",
      " 8   published         10217 non-null  object\n",
      " 9   published_utc     10217 non-null  int64 \n",
      " 10  collection_utc    10217 non-null  int64 \n",
      " 11  category_level_1  10217 non-null  object\n",
      " 12  category_level_2  10217 non-null  object\n",
      " 13  content_length    10217 non-null  int64 \n",
      "dtypes: int64(4), object(10)\n",
      "memory usage: 1.2+ MB\n"
     ]
    }
   ],
   "source": [
    "df_new.info()"
   ]
  },
  {
   "cell_type": "markdown",
   "metadata": {},
   "source": [
    "### Build tran_dev_test dataset."
   ]
  },
  {
   "cell_type": "code",
   "execution_count": 9,
   "metadata": {},
   "outputs": [],
   "source": [
    "target_column = ['data_id', 'source', 'content', 'title', 'category_level_1', 'category_level_2', 'content_length']\n",
    "news_df = df_new[target_column] \n",
    "news_df = news_df.sample(frac=1, random_state=42).reset_index(drop=True)"
   ]
  },
  {
   "cell_type": "code",
   "execution_count": 10,
   "metadata": {},
   "outputs": [
    {
     "data": {
      "text/plain": [
       "'(Natural News) Pancreatic cancer is one of the most daunting varieties of the disease, with very few people surviving beyond five years after their diagnosis. With few symptoms, most patients aren’t diagnosed until they’ve already reached the metastatic stage. It’s the fourth leading cause of cancer deaths and the 12th most common type of cancer worldwide, and an effective treatment is desperately needed. Now, a new discovery could bring hope to future patients.\\n\\nScientists at Tel Aviv University have developed a new treatment that could destroy pancreatic cancer cells. Their treatment involves a small molecule known as PJ34, which was originally developed to help stroke victims. They discovered that when it is injected, it causes human cancer cells to destroy themselves during cell division, or mitosis.\\n\\nThey conducted their study using transplanted human pancreatic cancer in immunocompromised mice. They found that after two weeks of daily injection with the molecule, there was an incredible 90 percent reduction in cancer cells 30 days after ending the treatment, with one mouse even seeing its tumor disappear completely.\\n\\nThe researchers say this molecule spurs an anomaly while the cancer cells are dividing that provokes rapid cell death. In other words, it’s the cell multiplication itself that is causing these bad cells to die.\\n\\nBest of all, unlike traditional treatments like chemotherapy, PJ34 does not affect healthy cells, so they did not see any negative effects in the mice from treatment. In fact, the animals grew and gained weight as usual.\\n\\nSponsored: NEW Biostructured Silver First Aid Gel created by the Health Ranger combines three types of silver (ionic silver, colloidal silver, biostructured silver) with seven potent botanicals (rosemary, oregano, cinnamon and more) to create a breakthrough first aid silver gel. Over 50 ppm silver, verified via ICP-MS lab analysis. Made from 100% Texas rain water and 70% solar power. Zero chemical preservatives, fragrances or emulsifiers. See full details here.\\n\\nThe study’s leader, Professor Malka Cohen-Armon, also explored this mechanism in a 2017 study, when she used it to treat triple-negative breast cancer, which, like pancreatic cancer, is notoriously difficult to treat. The research team has also found in parallel studies that the molecule is efficient on other deadly types of cancer, including aggressive varieties of lung, brain, ovarian and breast cancers that resist current therapies.\\n\\nA statement released by the university said the research holds “great potential for the development of a new effective therapy to treat this aggressive cancer in humans.”\\n\\nNext, the researchers would like to test the molecule on bigger animals like pigs before eventually carrying out trials in humans, which they believe could take around two years, depending on the funding available.\\n\\nThe findings were published in the October edition of the peer-reviewed biomedical journal Oncotarget.\\n\\nLast year, scientists discovered another potential therapy for pancreatic cancer in the form of dual thermal ablation, a process that entails heating and freezing. They used different technologies to heat and freeze cancer cells and measure the levels of cell death and regrowth. When heating or freezing are used individually, some cells may die but others will survive and regrow. With dual-thermal ablation, however, more cells die and don’t return.\\n\\nAlthough these treatments are very promising, it’s still a good idea to do everything you can to reduce your risk, especially if someone in your family has had this type of cancer. Following a healthy diet and maintaining a healthy wright are two easy ways to lower your risk, and you should also refrain from smoking.\\n\\nThe Israeli study, and others like it, could lead to incredibly valuable treatments for this deadly disease, and it’s encouraging to see researchers thinking outside of the box and looking to develop treatments that don’t put your overall health at risk the way chemotherapy does.'"
      ]
     },
     "execution_count": 10,
     "metadata": {},
     "output_type": "execute_result"
    }
   ],
   "source": [
    "news_df.iloc[0, :]['content']"
   ]
  },
  {
   "cell_type": "code",
   "execution_count": 11,
   "metadata": {},
   "outputs": [],
   "source": [
    "# Define the sizes for train, dev, and test sets\n",
    "train_size = 8400\n",
    "dev_size = 600\n",
    "test_size = 1000\n",
    "\n",
    "# Split the DataFrame into train, dev, and test sets\n",
    "train_set = news_df[:train_size]\n",
    "dev_set = news_df[train_size:train_size + dev_size]\n",
    "test_set = news_df[train_size + dev_size:]\n",
    "\n",
    "# Optionally, you can save these sets into separate CSV files\n",
    "train_set.to_csv('data/train_set.csv', index=False)\n",
    "dev_set.to_csv('data/dev_set.csv', index=False)\n",
    "test_set.to_csv('data/test_set.csv', index=False)\n"
   ]
  }
 ],
 "metadata": {
  "kernelspec": {
   "display_name": "base",
   "language": "python",
   "name": "python3"
  },
  "language_info": {
   "codemirror_mode": {
    "name": "ipython",
    "version": 3
   },
   "file_extension": ".py",
   "mimetype": "text/x-python",
   "name": "python",
   "nbconvert_exporter": "python",
   "pygments_lexer": "ipython3",
   "version": "3.11.4"
  }
 },
 "nbformat": 4,
 "nbformat_minor": 2
}
